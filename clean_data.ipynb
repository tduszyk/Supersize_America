{
 "cells": [
  {
   "cell_type": "code",
   "execution_count": 2,
   "metadata": {},
   "outputs": [],
   "source": [
    "# Dependencies and Setup\n",
    "import matplotlib.pyplot as plt\n",
    "import pandas as pd\n",
    "import numpy as np\n",
    "import requests\n",
    "import time\n",
    "import csv"
   ]
  },
  {
   "cell_type": "code",
   "execution_count": 7,
   "metadata": {},
   "outputs": [],
   "source": [
    "# File to Load\n",
    "fastfood_to_load = \"datasets/fast-food-restaurants/Datafiniti_Fast_Food_Restaurants.csv\"\n",
    "census_to_load = \"datasets/us-census-demographic-data/acs2017_census_tract_data.csv\"\n",
    "\n",
    "# Read the CSV files\n",
    "fastfood = pd.read_csv(fastfood_to_load)\n",
    "census = pd.read_csv(census_to_load)\n",
    "\n",
    "# Create FastFood dataset\n",
    "ff_id = fastfood['id']\n",
    "ff_name = fastfood['name']\n",
    "ff_state = fastfood['province']\n",
    "dict1 = {'name': ff_name, 'state': ff_state}  \n",
    "fastfood_df = pd.DataFrame(dict1) \n",
    "\n",
    "# Output File (CSV)\n",
    "output_ff_file = \"output_data/fastfood.csv\"\n",
    "\n",
    "# Write DF to a CSV\n",
    "fastfood_df.to_csv(output_ff_file, sep=';', encoding='utf-8')\n",
    "\n",
    "\n",
    "# Create Census dataset\n",
    "#Columns: State, Income, Professional, Unemployment\n",
    "us_id = census['TractId']\n",
    "us_state = census['State']\n",
    "us_income = census['Income']\n",
    "us_professional = census['Professional']\n",
    "us_unemployment = census['Unemployment']\n",
    "dict2 = {'id': us_id, 'state': us_state, 'income': us_income, 'professional': us_professional, 'unemployment': us_unemployment}\n",
    "census_df = pd.DataFrame(dict2)\n",
    "\n",
    "# Output File (CSV)\n",
    "output_us_file = \"output_data/census.csv\"\n",
    "\n",
    "# Write output to the file\n",
    "census_df.to_csv(output_us_file, sep=';', encoding='utf-8')\n"
   ]
  },
  {
   "cell_type": "code",
   "execution_count": null,
   "metadata": {},
   "outputs": [],
   "source": []
  }
 ],
 "metadata": {
  "kernelspec": {
   "display_name": "Python 3",
   "language": "python",
   "name": "python3"
  },
  "language_info": {
   "codemirror_mode": {
    "name": "ipython",
    "version": 3
   },
   "file_extension": ".py",
   "mimetype": "text/x-python",
   "name": "python",
   "nbconvert_exporter": "python",
   "pygments_lexer": "ipython3",
   "version": "3.6.8"
  }
 },
 "nbformat": 4,
 "nbformat_minor": 2
}
