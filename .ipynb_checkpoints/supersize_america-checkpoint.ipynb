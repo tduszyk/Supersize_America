{
 "cells": [
  {
   "cell_type": "code",
   "execution_count": 1,
   "metadata": {},
   "outputs": [],
   "source": [
    "# Dependencies and Setup\n",
    "import matplotlib.pyplot as plt\n",
    "import pandas as pd\n",
    "import numpy as np\n",
    "import requests\n",
    "import time\n",
    "import csv"
   ]
  },
  {
   "cell_type": "code",
   "execution_count": 2,
   "metadata": {},
   "outputs": [],
   "source": [
    "# Clean dataset, take only necessary columns, create new dataframes and save as csv\n",
    "\n",
    "# File to Load\n",
    "fastfood_to_load = \"datasets/fast-food-restaurants/Datafiniti_Fast_Food_Restaurants.csv\"\n",
    "census_to_load = \"datasets/us-census-demographic-data/acs2017_census_tract_data.csv\"\n",
    "\n",
    "# Read the CSV files\n",
    "fastfood = pd.read_csv(fastfood_to_load)\n",
    "census = pd.read_csv(census_to_load)\n",
    "\n",
    "# Create FastFood dataset\n",
    "ff_id = fastfood['id']\n",
    "ff_name = fastfood['name']\n",
    "ff_state = fastfood['province']\n",
    "dict1 = {'state': ff_state, 'name': ff_name}  \n",
    "fastfood_df = pd.DataFrame(dict1) \n",
    "\n",
    "# Output File (CSV)\n",
    "output_ff_file = \"output_data/fastfood.csv\"\n",
    "\n",
    "# Write DF to a CSV\n",
    "fastfood_df.to_csv(output_ff_file, sep=';', encoding='utf-8')\n",
    "\n",
    "\n",
    "# Create Census dataset\n",
    "# Columns: State, Income, Professional, Unemployment\n",
    "us_state = census['State']\n",
    "us_income = census['Income']\n",
    "us_professional = census['Professional']\n",
    "us_unemployment = census['Unemployment']\n",
    "dict2 = {'state': us_state, 'income': us_income, 'professional': us_professional, 'unemployment': us_unemployment}\n",
    "census_df = pd.DataFrame(dict2)\n",
    "\n",
    "# Output File (CSV)\n",
    "output_us_file = \"output_data/census.csv\"\n",
    "\n",
    "# Write output to the file\n",
    "census_df.to_csv(output_us_file, sep=';', encoding='utf-8')\n",
    "\n",
    "# Create population dataset\n",
    "us_pop = census['TotalPop']\n",
    "dict3 = {'state': us_state, 'population': us_pop}\n",
    "population_df = pd.DataFrame(dict3)\n",
    "\n",
    "# Output File (CSV)\n",
    "output_us_file = \"output_data/population.csv\"\n",
    "\n",
    "# Write output to the file\n",
    "population_df.to_csv(output_us_file, sep=';', encoding='utf-8')\n"
   ]
  },
  {
   "cell_type": "code",
   "execution_count": 3,
   "metadata": {},
   "outputs": [],
   "source": [
    "# This is required to change state names into abbreviations in order to merge datasets later\n",
    "us_state_abbrev = {\n",
    "    'Alabama': 'AL',\n",
    "    'Alaska': 'AK',\n",
    "    'Arizona': 'AZ',\n",
    "    'Arkansas': 'AR',\n",
    "    'California': 'CA',\n",
    "    'Colorado': 'CO',\n",
    "    'Connecticut': 'CT',\n",
    "    'Delaware': 'DE',\n",
    "    'Florida': 'FL',\n",
    "    'Georgia': 'GA',\n",
    "    'Hawaii': 'HI',\n",
    "    'Idaho': 'ID',\n",
    "    'Illinois': 'IL',\n",
    "    'Indiana': 'IN',\n",
    "    'Iowa': 'IA',\n",
    "    'Kansas': 'KS',\n",
    "    'Kentucky': 'KY',\n",
    "    'Louisiana': 'LA',\n",
    "    'Maine': 'ME',\n",
    "    'Maryland': 'MD',\n",
    "    'Massachusetts': 'MA',\n",
    "    'Michigan': 'MI',\n",
    "    'Minnesota': 'MN',\n",
    "    'Mississippi': 'MS',\n",
    "    'Missouri': 'MO',\n",
    "    'Montana': 'MT',\n",
    "    'Nebraska': 'NE',\n",
    "    'Nevada': 'NV',\n",
    "    'New Hampshire': 'NH',\n",
    "    'New Jersey': 'NJ',\n",
    "    'New Mexico': 'NM',\n",
    "    'New York': 'NY',\n",
    "    'North Carolina': 'NC',\n",
    "    'North Dakota': 'ND',\n",
    "    'Ohio': 'OH',\n",
    "    'Oklahoma': 'OK',\n",
    "    'Oregon': 'OR',\n",
    "    'Pennsylvania': 'PA',\n",
    "    'Rhode Island': 'RI',\n",
    "    'South Carolina': 'SC',\n",
    "    'South Dakota': 'SD',\n",
    "    'Tennessee': 'TN',\n",
    "    'Texas': 'TX',\n",
    "    'Utah': 'UT',\n",
    "    'Vermont': 'VT',\n",
    "    'Virginia': 'VA',\n",
    "    'Washington': 'WA',\n",
    "    'West Virginia': 'WV',\n",
    "    'Wisconsin': 'WI',\n",
    "    'Wyoming': 'WY',\n",
    "}"
   ]
  },
  {
   "cell_type": "code",
   "execution_count": 4,
   "metadata": {},
   "outputs": [
    {
     "data": {
      "text/html": [
       "<div>\n",
       "<style scoped>\n",
       "    .dataframe tbody tr th:only-of-type {\n",
       "        vertical-align: middle;\n",
       "    }\n",
       "\n",
       "    .dataframe tbody tr th {\n",
       "        vertical-align: top;\n",
       "    }\n",
       "\n",
       "    .dataframe thead th {\n",
       "        text-align: right;\n",
       "    }\n",
       "</style>\n",
       "<table border=\"1\" class=\"dataframe\">\n",
       "  <thead>\n",
       "    <tr style=\"text-align: right;\">\n",
       "      <th></th>\n",
       "      <th>state</th>\n",
       "      <th>name</th>\n",
       "    </tr>\n",
       "  </thead>\n",
       "  <tbody>\n",
       "    <tr>\n",
       "      <th>0</th>\n",
       "      <td>LA</td>\n",
       "      <td>SONIC Drive In</td>\n",
       "    </tr>\n",
       "    <tr>\n",
       "      <th>1</th>\n",
       "      <td>LA</td>\n",
       "      <td>SONIC Drive In</td>\n",
       "    </tr>\n",
       "    <tr>\n",
       "      <th>2</th>\n",
       "      <td>TN</td>\n",
       "      <td>Taco Bell</td>\n",
       "    </tr>\n",
       "    <tr>\n",
       "      <th>3</th>\n",
       "      <td>TN</td>\n",
       "      <td>Arby's</td>\n",
       "    </tr>\n",
       "    <tr>\n",
       "      <th>4</th>\n",
       "      <td>GA</td>\n",
       "      <td>Steak 'n Shake</td>\n",
       "    </tr>\n",
       "  </tbody>\n",
       "</table>\n",
       "</div>"
      ],
      "text/plain": [
       "  state            name\n",
       "0    LA  SONIC Drive In\n",
       "1    LA  SONIC Drive In\n",
       "2    TN       Taco Bell\n",
       "3    TN          Arby's\n",
       "4    GA  Steak 'n Shake"
      ]
     },
     "execution_count": 4,
     "metadata": {},
     "output_type": "execute_result"
    }
   ],
   "source": [
    "fastfood_df.head()"
   ]
  },
  {
   "cell_type": "code",
   "execution_count": 5,
   "metadata": {},
   "outputs": [],
   "source": [
    "# Change state abbreviation to state name in census\n",
    "census_df = census_df.replace({\"state\": us_state_abbrev})"
   ]
  },
  {
   "cell_type": "code",
   "execution_count": 6,
   "metadata": {},
   "outputs": [
    {
     "data": {
      "text/html": [
       "<div>\n",
       "<style scoped>\n",
       "    .dataframe tbody tr th:only-of-type {\n",
       "        vertical-align: middle;\n",
       "    }\n",
       "\n",
       "    .dataframe tbody tr th {\n",
       "        vertical-align: top;\n",
       "    }\n",
       "\n",
       "    .dataframe thead th {\n",
       "        text-align: right;\n",
       "    }\n",
       "</style>\n",
       "<table border=\"1\" class=\"dataframe\">\n",
       "  <thead>\n",
       "    <tr style=\"text-align: right;\">\n",
       "      <th></th>\n",
       "      <th>state</th>\n",
       "      <th>income</th>\n",
       "      <th>professional</th>\n",
       "      <th>unemployment</th>\n",
       "    </tr>\n",
       "  </thead>\n",
       "  <tbody>\n",
       "    <tr>\n",
       "      <th>0</th>\n",
       "      <td>AL</td>\n",
       "      <td>67826.0</td>\n",
       "      <td>38.5</td>\n",
       "      <td>4.6</td>\n",
       "    </tr>\n",
       "    <tr>\n",
       "      <th>1</th>\n",
       "      <td>AL</td>\n",
       "      <td>41287.0</td>\n",
       "      <td>30.5</td>\n",
       "      <td>3.4</td>\n",
       "    </tr>\n",
       "    <tr>\n",
       "      <th>2</th>\n",
       "      <td>AL</td>\n",
       "      <td>46806.0</td>\n",
       "      <td>27.9</td>\n",
       "      <td>4.7</td>\n",
       "    </tr>\n",
       "    <tr>\n",
       "      <th>3</th>\n",
       "      <td>AL</td>\n",
       "      <td>55895.0</td>\n",
       "      <td>29.0</td>\n",
       "      <td>6.1</td>\n",
       "    </tr>\n",
       "    <tr>\n",
       "      <th>4</th>\n",
       "      <td>AL</td>\n",
       "      <td>68143.0</td>\n",
       "      <td>48.8</td>\n",
       "      <td>2.3</td>\n",
       "    </tr>\n",
       "  </tbody>\n",
       "</table>\n",
       "</div>"
      ],
      "text/plain": [
       "  state   income  professional  unemployment\n",
       "0    AL  67826.0          38.5           4.6\n",
       "1    AL  41287.0          30.5           3.4\n",
       "2    AL  46806.0          27.9           4.7\n",
       "3    AL  55895.0          29.0           6.1\n",
       "4    AL  68143.0          48.8           2.3"
      ]
     },
     "execution_count": 6,
     "metadata": {},
     "output_type": "execute_result"
    }
   ],
   "source": [
    "census_df.head()"
   ]
  },
  {
   "cell_type": "code",
   "execution_count": 7,
   "metadata": {},
   "outputs": [],
   "source": [
    "# Change state abbreviation to state name in population\n",
    "population_df = population_df.replace({\"state\": us_state_abbrev})"
   ]
  },
  {
   "cell_type": "code",
   "execution_count": 8,
   "metadata": {},
   "outputs": [
    {
     "data": {
      "text/html": [
       "<div>\n",
       "<style scoped>\n",
       "    .dataframe tbody tr th:only-of-type {\n",
       "        vertical-align: middle;\n",
       "    }\n",
       "\n",
       "    .dataframe tbody tr th {\n",
       "        vertical-align: top;\n",
       "    }\n",
       "\n",
       "    .dataframe thead th {\n",
       "        text-align: right;\n",
       "    }\n",
       "</style>\n",
       "<table border=\"1\" class=\"dataframe\">\n",
       "  <thead>\n",
       "    <tr style=\"text-align: right;\">\n",
       "      <th></th>\n",
       "      <th>state</th>\n",
       "      <th>population</th>\n",
       "    </tr>\n",
       "  </thead>\n",
       "  <tbody>\n",
       "    <tr>\n",
       "      <th>0</th>\n",
       "      <td>AL</td>\n",
       "      <td>1845</td>\n",
       "    </tr>\n",
       "    <tr>\n",
       "      <th>1</th>\n",
       "      <td>AL</td>\n",
       "      <td>2172</td>\n",
       "    </tr>\n",
       "    <tr>\n",
       "      <th>2</th>\n",
       "      <td>AL</td>\n",
       "      <td>3385</td>\n",
       "    </tr>\n",
       "    <tr>\n",
       "      <th>3</th>\n",
       "      <td>AL</td>\n",
       "      <td>4267</td>\n",
       "    </tr>\n",
       "    <tr>\n",
       "      <th>4</th>\n",
       "      <td>AL</td>\n",
       "      <td>9965</td>\n",
       "    </tr>\n",
       "  </tbody>\n",
       "</table>\n",
       "</div>"
      ],
      "text/plain": [
       "  state  population\n",
       "0    AL        1845\n",
       "1    AL        2172\n",
       "2    AL        3385\n",
       "3    AL        4267\n",
       "4    AL        9965"
      ]
     },
     "execution_count": 8,
     "metadata": {},
     "output_type": "execute_result"
    }
   ],
   "source": [
    "population_df.head()"
   ]
  },
  {
   "cell_type": "markdown",
   "metadata": {},
   "source": [
    "## Questions:\n",
    "1. most popular FFR by state\n",
    "2. correlation between white collar jobs and FFR\n",
    "3. correlation between unemployment rate and FFR\n",
    "4. correlation between income and FFR"
   ]
  },
  {
   "cell_type": "code",
   "execution_count": 9,
   "metadata": {},
   "outputs": [],
   "source": [
    "# Clean NaNs from datasets\n",
    "census_df = census_df.dropna()\n",
    "fastfood_df = fastfood_df.dropna()\n",
    "population_df = population_df.dropna()"
   ]
  },
  {
   "cell_type": "code",
   "execution_count": 10,
   "metadata": {},
   "outputs": [
    {
     "data": {
      "text/html": [
       "<div>\n",
       "<style scoped>\n",
       "    .dataframe tbody tr th:only-of-type {\n",
       "        vertical-align: middle;\n",
       "    }\n",
       "\n",
       "    .dataframe tbody tr th {\n",
       "        vertical-align: top;\n",
       "    }\n",
       "\n",
       "    .dataframe thead th {\n",
       "        text-align: right;\n",
       "    }\n",
       "</style>\n",
       "<table border=\"1\" class=\"dataframe\">\n",
       "  <thead>\n",
       "    <tr style=\"text-align: right;\">\n",
       "      <th></th>\n",
       "      <th>state</th>\n",
       "      <th>most_popular_fastfood</th>\n",
       "    </tr>\n",
       "  </thead>\n",
       "  <tbody>\n",
       "    <tr>\n",
       "      <th>0</th>\n",
       "      <td>AK</td>\n",
       "      <td>Subway</td>\n",
       "    </tr>\n",
       "    <tr>\n",
       "      <th>1</th>\n",
       "      <td>AL</td>\n",
       "      <td>Taco Bell</td>\n",
       "    </tr>\n",
       "    <tr>\n",
       "      <th>2</th>\n",
       "      <td>AR</td>\n",
       "      <td>McDonald's</td>\n",
       "    </tr>\n",
       "    <tr>\n",
       "      <th>3</th>\n",
       "      <td>AZ</td>\n",
       "      <td>McDonald's</td>\n",
       "    </tr>\n",
       "    <tr>\n",
       "      <th>4</th>\n",
       "      <td>CA</td>\n",
       "      <td>McDonald's</td>\n",
       "    </tr>\n",
       "  </tbody>\n",
       "</table>\n",
       "</div>"
      ],
      "text/plain": [
       "  state most_popular_fastfood\n",
       "0    AK                Subway\n",
       "1    AL             Taco Bell\n",
       "2    AR            McDonald's\n",
       "3    AZ            McDonald's\n",
       "4    CA            McDonald's"
      ]
     },
     "execution_count": 10,
     "metadata": {},
     "output_type": "execute_result"
    }
   ],
   "source": [
    "#ffbs_df most popular fastfood in each state. \n",
    "ffbs_df = fastfood_df.groupby('state', as_index=False).agg({'name': lambda x: x.value_counts().index[0]})\n",
    "ffbs_df.columns = ['state', 'most_popular_fastfood']\n",
    "ffbs_df.head()"
   ]
  },
  {
   "cell_type": "code",
   "execution_count": 11,
   "metadata": {},
   "outputs": [
    {
     "data": {
      "text/html": [
       "<div>\n",
       "<style scoped>\n",
       "    .dataframe tbody tr th:only-of-type {\n",
       "        vertical-align: middle;\n",
       "    }\n",
       "\n",
       "    .dataframe tbody tr th {\n",
       "        vertical-align: top;\n",
       "    }\n",
       "\n",
       "    .dataframe thead th {\n",
       "        text-align: right;\n",
       "    }\n",
       "</style>\n",
       "<table border=\"1\" class=\"dataframe\">\n",
       "  <thead>\n",
       "    <tr style=\"text-align: right;\">\n",
       "      <th></th>\n",
       "      <th>state</th>\n",
       "      <th>fastfood_qty</th>\n",
       "    </tr>\n",
       "  </thead>\n",
       "  <tbody>\n",
       "    <tr>\n",
       "      <th>0</th>\n",
       "      <td>AK</td>\n",
       "      <td>16</td>\n",
       "    </tr>\n",
       "    <tr>\n",
       "      <th>1</th>\n",
       "      <td>AL</td>\n",
       "      <td>6</td>\n",
       "    </tr>\n",
       "    <tr>\n",
       "      <th>2</th>\n",
       "      <td>AR</td>\n",
       "      <td>102</td>\n",
       "    </tr>\n",
       "    <tr>\n",
       "      <th>3</th>\n",
       "      <td>AZ</td>\n",
       "      <td>330</td>\n",
       "    </tr>\n",
       "    <tr>\n",
       "      <th>4</th>\n",
       "      <td>CA</td>\n",
       "      <td>1201</td>\n",
       "    </tr>\n",
       "  </tbody>\n",
       "</table>\n",
       "</div>"
      ],
      "text/plain": [
       "  state  fastfood_qty\n",
       "0    AK            16\n",
       "1    AL             6\n",
       "2    AR           102\n",
       "3    AZ           330\n",
       "4    CA          1201"
      ]
     },
     "execution_count": 11,
     "metadata": {},
     "output_type": "execute_result"
    }
   ],
   "source": [
    "# number of FFRs in each state\n",
    "ff_qty_df = fastfood_df.groupby('state', as_index=False).count()\n",
    "ff_qty_df.columns = ['state', 'fastfood_qty']\n",
    "ff_qty_df.head()"
   ]
  },
  {
   "cell_type": "code",
   "execution_count": 12,
   "metadata": {},
   "outputs": [
    {
     "data": {
      "text/html": [
       "<div>\n",
       "<style scoped>\n",
       "    .dataframe tbody tr th:only-of-type {\n",
       "        vertical-align: middle;\n",
       "    }\n",
       "\n",
       "    .dataframe tbody tr th {\n",
       "        vertical-align: top;\n",
       "    }\n",
       "\n",
       "    .dataframe thead th {\n",
       "        text-align: right;\n",
       "    }\n",
       "</style>\n",
       "<table border=\"1\" class=\"dataframe\">\n",
       "  <thead>\n",
       "    <tr style=\"text-align: right;\">\n",
       "      <th></th>\n",
       "      <th>state</th>\n",
       "      <th>income</th>\n",
       "      <th>professional</th>\n",
       "      <th>unemployment</th>\n",
       "    </tr>\n",
       "  </thead>\n",
       "  <tbody>\n",
       "    <tr>\n",
       "      <th>0</th>\n",
       "      <td>AK</td>\n",
       "      <td>73796.757576</td>\n",
       "      <td>35.360606</td>\n",
       "      <td>8.700606</td>\n",
       "    </tr>\n",
       "    <tr>\n",
       "      <th>1</th>\n",
       "      <td>AL</td>\n",
       "      <td>45938.212947</td>\n",
       "      <td>30.788501</td>\n",
       "      <td>8.644549</td>\n",
       "    </tr>\n",
       "    <tr>\n",
       "      <th>2</th>\n",
       "      <td>AR</td>\n",
       "      <td>44245.267936</td>\n",
       "      <td>30.750073</td>\n",
       "      <td>7.060322</td>\n",
       "    </tr>\n",
       "    <tr>\n",
       "      <th>3</th>\n",
       "      <td>AZ</td>\n",
       "      <td>57815.571807</td>\n",
       "      <td>34.612773</td>\n",
       "      <td>7.580278</td>\n",
       "    </tr>\n",
       "    <tr>\n",
       "      <th>4</th>\n",
       "      <td>CA</td>\n",
       "      <td>73070.965821</td>\n",
       "      <td>37.049925</td>\n",
       "      <td>7.856258</td>\n",
       "    </tr>\n",
       "  </tbody>\n",
       "</table>\n",
       "</div>"
      ],
      "text/plain": [
       "  state        income  professional  unemployment\n",
       "0    AK  73796.757576     35.360606      8.700606\n",
       "1    AL  45938.212947     30.788501      8.644549\n",
       "2    AR  44245.267936     30.750073      7.060322\n",
       "3    AZ  57815.571807     34.612773      7.580278\n",
       "4    CA  73070.965821     37.049925      7.856258"
      ]
     },
     "execution_count": 12,
     "metadata": {},
     "output_type": "execute_result"
    }
   ],
   "source": [
    "# Average income, number of prefessionals, and unemployed in each state\n",
    "cen_mean_df = census_df.groupby('state', as_index=False).mean()\n",
    "cen_mean_df.head()"
   ]
  },
  {
   "cell_type": "code",
   "execution_count": 13,
   "metadata": {},
   "outputs": [
    {
     "data": {
      "text/html": [
       "<div>\n",
       "<style scoped>\n",
       "    .dataframe tbody tr th:only-of-type {\n",
       "        vertical-align: middle;\n",
       "    }\n",
       "\n",
       "    .dataframe tbody tr th {\n",
       "        vertical-align: top;\n",
       "    }\n",
       "\n",
       "    .dataframe thead th {\n",
       "        text-align: right;\n",
       "    }\n",
       "</style>\n",
       "<table border=\"1\" class=\"dataframe\">\n",
       "  <thead>\n",
       "    <tr style=\"text-align: right;\">\n",
       "      <th></th>\n",
       "      <th>state</th>\n",
       "      <th>population</th>\n",
       "    </tr>\n",
       "  </thead>\n",
       "  <tbody>\n",
       "    <tr>\n",
       "      <th>0</th>\n",
       "      <td>AK</td>\n",
       "      <td>738565</td>\n",
       "    </tr>\n",
       "    <tr>\n",
       "      <th>1</th>\n",
       "      <td>AL</td>\n",
       "      <td>4850771</td>\n",
       "    </tr>\n",
       "    <tr>\n",
       "      <th>2</th>\n",
       "      <td>AR</td>\n",
       "      <td>2977944</td>\n",
       "    </tr>\n",
       "    <tr>\n",
       "      <th>3</th>\n",
       "      <td>AZ</td>\n",
       "      <td>6809946</td>\n",
       "    </tr>\n",
       "    <tr>\n",
       "      <th>4</th>\n",
       "      <td>CA</td>\n",
       "      <td>38982847</td>\n",
       "    </tr>\n",
       "  </tbody>\n",
       "</table>\n",
       "</div>"
      ],
      "text/plain": [
       "  state  population\n",
       "0    AK      738565\n",
       "1    AL     4850771\n",
       "2    AR     2977944\n",
       "3    AZ     6809946\n",
       "4    CA    38982847"
      ]
     },
     "execution_count": 13,
     "metadata": {},
     "output_type": "execute_result"
    }
   ],
   "source": [
    "# Total population in each state\n",
    "total_pop_df = population_df.groupby('state', as_index=False).sum()\n",
    "total_pop_df.head()"
   ]
  },
  {
   "cell_type": "code",
   "execution_count": 14,
   "metadata": {},
   "outputs": [
    {
     "data": {
      "text/html": [
       "<div>\n",
       "<style scoped>\n",
       "    .dataframe tbody tr th:only-of-type {\n",
       "        vertical-align: middle;\n",
       "    }\n",
       "\n",
       "    .dataframe tbody tr th {\n",
       "        vertical-align: top;\n",
       "    }\n",
       "\n",
       "    .dataframe thead th {\n",
       "        text-align: right;\n",
       "    }\n",
       "</style>\n",
       "<table border=\"1\" class=\"dataframe\">\n",
       "  <thead>\n",
       "    <tr style=\"text-align: right;\">\n",
       "      <th></th>\n",
       "      <th>state</th>\n",
       "      <th>population</th>\n",
       "      <th>income</th>\n",
       "      <th>professional</th>\n",
       "      <th>unemployment</th>\n",
       "      <th>most_popular_fastfood</th>\n",
       "      <th>fastfood_qty</th>\n",
       "    </tr>\n",
       "  </thead>\n",
       "  <tbody>\n",
       "    <tr>\n",
       "      <th>0</th>\n",
       "      <td>AK</td>\n",
       "      <td>738565</td>\n",
       "      <td>73796.76</td>\n",
       "      <td>35.36</td>\n",
       "      <td>8.70</td>\n",
       "      <td>Subway</td>\n",
       "      <td>16</td>\n",
       "    </tr>\n",
       "    <tr>\n",
       "      <th>1</th>\n",
       "      <td>AL</td>\n",
       "      <td>4850771</td>\n",
       "      <td>45938.21</td>\n",
       "      <td>30.79</td>\n",
       "      <td>8.64</td>\n",
       "      <td>Taco Bell</td>\n",
       "      <td>6</td>\n",
       "    </tr>\n",
       "    <tr>\n",
       "      <th>2</th>\n",
       "      <td>AR</td>\n",
       "      <td>2977944</td>\n",
       "      <td>44245.27</td>\n",
       "      <td>30.75</td>\n",
       "      <td>7.06</td>\n",
       "      <td>McDonald's</td>\n",
       "      <td>102</td>\n",
       "    </tr>\n",
       "    <tr>\n",
       "      <th>3</th>\n",
       "      <td>AZ</td>\n",
       "      <td>6809946</td>\n",
       "      <td>57815.57</td>\n",
       "      <td>34.61</td>\n",
       "      <td>7.58</td>\n",
       "      <td>McDonald's</td>\n",
       "      <td>330</td>\n",
       "    </tr>\n",
       "    <tr>\n",
       "      <th>4</th>\n",
       "      <td>CA</td>\n",
       "      <td>38982847</td>\n",
       "      <td>73070.97</td>\n",
       "      <td>37.05</td>\n",
       "      <td>7.86</td>\n",
       "      <td>McDonald's</td>\n",
       "      <td>1201</td>\n",
       "    </tr>\n",
       "  </tbody>\n",
       "</table>\n",
       "</div>"
      ],
      "text/plain": [
       "  state  population    income  professional  unemployment  \\\n",
       "0    AK      738565  73796.76         35.36          8.70   \n",
       "1    AL     4850771  45938.21         30.79          8.64   \n",
       "2    AR     2977944  44245.27         30.75          7.06   \n",
       "3    AZ     6809946  57815.57         34.61          7.58   \n",
       "4    CA    38982847  73070.97         37.05          7.86   \n",
       "\n",
       "  most_popular_fastfood  fastfood_qty  \n",
       "0                Subway            16  \n",
       "1             Taco Bell             6  \n",
       "2            McDonald's           102  \n",
       "3            McDonald's           330  \n",
       "4            McDonald's          1201  "
      ]
     },
     "execution_count": 14,
     "metadata": {},
     "output_type": "execute_result"
    }
   ],
   "source": [
    "# Merging datasets to create final DS ready for plotting.\n",
    "cen_tot_df = pd.merge(total_pop_df, cen_mean_df, on='state', how='outer')\n",
    "cen_mpf_df = pd.merge(cen_tot_df, ffbs_df, on='state', how='outer')\n",
    "df = pd.merge(cen_mpf_df, ff_qty_df, on='state', how='outer')\n",
    "df = df.dropna()\n",
    "decimals = pd.Series([2, 2, 2, 2], index=['income', 'population', 'professional', 'unemployment'])\n",
    "df = df.round(decimals)\n",
    "df['fastfood_qty'] = df.fastfood_qty.astype(int)\n",
    "df.head()"
   ]
  },
  {
   "cell_type": "code",
   "execution_count": null,
   "metadata": {},
   "outputs": [],
   "source": [
    "\n",
    "  \n",
    "# some more libraries to plot graph \n",
    "from plotly.offline import download_plotlyjs, init_notebook_mode, iplot, plot \n",
    "  \n",
    "# To establish connection \n",
    "init_notebook_mode(connected = True) \n",
    "  \n",
    "  \n",
    "# type defined is choropleth to \n",
    "# plot geographical plots \n",
    "data4 = dict(type = 'choropleth', \n",
    "  \n",
    "            # location: Arizoana, California, Newyork \n",
    "            locations = df['state'], \n",
    "              \n",
    "            # States of USA \n",
    "            locationmode = 'USA-states', \n",
    "              \n",
    "            # colorscale can be added as per requirement \n",
    "            colorscale = 'G', reversescale = True,\n",
    "              \n",
    "            # text can be given anything you like \n",
    "            z = df['population'], \n",
    "            colorbar = {'title': 'Population No.'}) \n",
    "              \n",
    "layout4 = dict(geo ={'scope': 'usa'},\n",
    "             title ='Population by State') \n",
    "  \n",
    "# passing data dictionary as a list  \n",
    "choromap2 = go.Figure(data = [data2], layout = layout2) \n",
    "\n",
    "# plotting graph \n",
    "iplot(choromap2) "
   ]
  },
  {
   "cell_type": "code",
   "execution_count": 15,
   "metadata": {},
   "outputs": [
    {
     "data": {
      "image/png": "[encoded data removed]",
      "text/plain": [
       "<Figure size 432x288 with 1 Axes>"
      ]
     },
     "metadata": {
      "needs_background": "light"
     },
     "output_type": "display_data"
    }
   ],
   "source": [
    "plt.scatter(df['population'], df['fastfood_qty'], marker='^', color='green')\n",
    "plt.axis([0, 40000000, 0, 1300])\n",
    "plt.title('Number of FFR and Number of Population', fontsize=20)\n",
    "plt.xlabel('Number of population', fontsize=18)\n",
    "plt.ylabel('Number of FFR', fontsize=16)\n",
    "plt.rcParams['figure.figsize'] = (10,6)\n",
    "plt.savefig('plots/ffr_population_read.png')"
   ]
  },
  {
   "cell_type": "code",
   "execution_count": 16,
   "metadata": {},
   "outputs": [
    {
     "data": {
      "image/png": "[encoded data removed]",
      "text/plain": [
       "<Figure size 720x432 with 1 Axes>"
      ]
     },
     "metadata": {
      "needs_background": "light"
     },
     "output_type": "display_data"
    }
   ],
   "source": [
    "plt.scatter(df['income'], df['fastfood_qty'], marker='o', color='gold')\n",
    "plt.title('Number of FFR and Income Level', fontsize=20)\n",
    "plt.xlabel('Income Level', fontsize=18)\n",
    "plt.ylabel('Number of FFR', fontsize=16)\n",
    "plt.rcParams['figure.figsize'] = (10,6)\n",
    "plt.savefig('plots/ffr_income_read.png')"
   ]
  },
  {
   "cell_type": "code",
   "execution_count": 17,
   "metadata": {},
   "outputs": [
    {
     "data": {
      "image/png": "[encoded data removed]",
      "text/plain": [
       "<Figure size 720x432 with 1 Axes>"
      ]
     },
     "metadata": {
      "needs_background": "light"
     },
     "output_type": "display_data"
    }
   ],
   "source": [
    "plt.scatter(df['professional'], df['fastfood_qty'], marker='+', color='blue')\n",
    "plt.title('Number of FFR and working professionals (%)', fontsize=20)\n",
    "plt.xlabel('Working professionsals (%)', fontsize=18)\n",
    "plt.ylabel('Number of FFR', fontsize=16)\n",
    "plt.rcParams['figure.figsize'] = (10,6)\n",
    "plt.savefig('plots/ffr_professional_read.png')"
   ]
  },
  {
   "cell_type": "code",
   "execution_count": 18,
   "metadata": {},
   "outputs": [
    {
     "data": {
      "image/png": "[encoded data removed]",
      "text/plain": [
       "<Figure size 720x432 with 1 Axes>"
      ]
     },
     "metadata": {
      "needs_background": "light"
     },
     "output_type": "display_data"
    }
   ],
   "source": [
    "plt.scatter(df['unemployment'], df['fastfood_qty'], marker='*', color='red')\n",
    "plt.title('Number of FFR and Unemployment Rate (%)', fontsize=20)\n",
    "plt.xlabel('Unemployment rate (%)', fontsize=18)\n",
    "plt.ylabel('Number of FFR', fontsize=16)\n",
    "plt.rcParams['figure.figsize'] = (10,6)\n",
    "plt.savefig('plots/ffr_unemployment_read.png')"
   ]
  },
  {
   "cell_type": "code",
   "execution_count": null,
   "metadata": {},
   "outputs": [],
   "source": []
  },
  {
   "cell_type": "code",
   "execution_count": 19,
   "metadata": {},
   "outputs": [
    {
     "data": {
      "image/png": "[encoded data removed]",
      "text/plain": [
       "<Figure size 720x432 with 4 Axes>"
      ]
     },
     "metadata": {
      "needs_background": "light"
     },
     "output_type": "display_data"
    },
    {
     "data": {
      "text/plain": [
       "<Figure size 960x960 with 0 Axes>"
      ]
     },
     "metadata": {},
     "output_type": "display_data"
    }
   ],
   "source": [
    "# create masked array\n",
    "fig, (ax1, ax2, ax3, ax4) = plt.subplots(nrows=4)#, )\n",
    "ax1.scatter(df['population'], df['fastfood_qty'], marker='^', color='green')\n",
    "ax1.axis([0, 40000000, 0, 1300])\n",
    "\n",
    "ax2.scatter(df['income'], df['fastfood_qty'], marker='o', color='gold')\n",
    "ax2.axis([40000, 90000, 0, 1300])\n",
    "\n",
    "ax3.scatter(df['professional'], df['fastfood_qty'], marker='+', color='blue')\n",
    "ax3.axis([25, 45, 0, 1300])\n",
    "\n",
    "ax4.scatter(df['unemployment'], df['fastfood_qty'], marker='*', color='red')\n",
    "ax4.axis([2, 10, 0, 1300])\n",
    "\n",
    "fig.tight_layout()\n",
    "plt.figure(figsize=(20, 20), dpi=48)\n",
    "\n",
    "plt.show()"
   ]
  },
  {
   "cell_type": "code",
   "execution_count": null,
   "metadata": {},
   "outputs": [],
   "source": []
  }
 ],
 "metadata": {
  "kernelspec": {
   "display_name": "Python [conda env:PythonData] *",
   "language": "python",
   "name": "conda-env-PythonData-py"
  },
  "language_info": {
   "codemirror_mode": {
    "name": "ipython",
    "version": 3
   },
   "file_extension": ".py",
   "mimetype": "text/x-python",
   "name": "python",
   "nbconvert_exporter": "python",
   "pygments_lexer": "ipython3",
   "version": "3.6.8"
  }
 },
 "nbformat": 4,
 "nbformat_minor": 2
}
